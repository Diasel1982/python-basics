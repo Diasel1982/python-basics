{
 "cells": [
  {
   "cell_type": "markdown",
   "id": "54d31cba",
   "metadata": {},
   "source": [
    "# Dateneingabe\n",
    "\n",
    "Python bietet zahlreiche Möglichkeiten Daten zu erfassen und zu verarbeiten. Vier wichtige Bereiche umfassen hierbei:\n",
    "\n",
    "1. direkte Benutzereingaben\n",
    "2. Einlesen von Dateien\n",
    "3. Übergabeparameter und Umgebungsvariablen\n",
    "4. Datenbank-Verbindungen\n",
    "\n",
    "Ein Grund für die starke Verbreitung von Python ist, dass in jedem der vier Bereiche gleich mehrere Pakete zur Verfügung stehen und Python überall so flexibel ist wie kaum eine andere Sprache. Das macht Python für die Datenverarbeitung besonders geeignet."
   ]
  },
  {
   "cell_type": "markdown",
   "id": "b613cc4e",
   "metadata": {},
   "source": [
    "## direkte Eingaben:\n",
    "\n",
    "Dieser Bereich ist heute eher weniger von Bedeutung, war aber einmal der wichtigste Interkationsweg. Vorteil der direkten Eingabe ist eine schnelle und direkte Umsetung, Nachteil ist die fehlende Automatisierbarkeit."
   ]
  },
  {
   "cell_type": "code",
   "execution_count": null,
   "id": "ea4e5e41",
   "metadata": {},
   "outputs": [],
   "source": [
    "a = input('Bitte gib irgendwas ein: ')\n",
    "\n",
    "print(f\"Eingabe: {a}\")\n",
    "print(f\"Typ:     {type(a)}\")"
   ]
  },
  {
   "cell_type": "markdown",
   "id": "f3a364ee",
   "metadata": {},
   "source": [
    "Außerdem gibt es installierbare Pakete, die einfache Konsolen-Menüs erstellen können:"
   ]
  },
  {
   "cell_type": "code",
   "execution_count": null,
   "id": "ab4c2c6f",
   "metadata": {},
   "outputs": [],
   "source": [
    "!pip install pick\n",
    "!pip install console-menu"
   ]
  },
  {
   "cell_type": "code",
   "execution_count": null,
   "id": "02935f8b",
   "metadata": {},
   "outputs": [],
   "source": [
    "from pick import pick\n",
    "\n",
    "# option, index = pick(['Windows', 'Mac', 'Linux'], 'Please choose your os')"
   ]
  },
  {
   "cell_type": "markdown",
   "id": "c9fbac2b",
   "metadata": {},
   "source": [
    "*pick kann im Jupyter Notebook nicht ausgeführt werden. Starte eine IPython Konsole hierfür.*"
   ]
  },
  {
   "cell_type": "code",
   "execution_count": null,
   "id": "85b892cb",
   "metadata": {},
   "outputs": [],
   "source": [
    "from consolemenu import SelectionMenu\n",
    "\n",
    "options = ['Windows', 'Mac', 'Windows']\n",
    "menu = SelectionMenu(options, 'Konfigurator', 'Select your os')\n",
    "menu.show()\n",
    "\n",
    "print(f\"Deine Eingabe: {options[menu.selected_option]}\")"
   ]
  },
  {
   "cell_type": "markdown",
   "id": "df0607cb",
   "metadata": {},
   "source": [
    "*console-menu hat sehr vielseitige Optionen. Es kann Menüs verschachteln oder auch optionen zur Ausführung von Skripten anzeigen.*"
   ]
  },
  {
   "cell_type": "markdown",
   "id": "18f19b62",
   "metadata": {},
   "source": [
    "## Lesen und Schreiben von Dateien\n",
    "\n",
    "Dateien können einfach mittels `open` befehl geöffnet werden. Die Funktion gibt ein Objekt zurück das Methoden zum lesen und Schreiben bietet. In Python ist es auch mögliche *File-like objects* im Arbeitsspeicher anzulegen. Das Interface ist weitgehend das selbe."
   ]
  },
  {
   "cell_type": "code",
   "execution_count": null,
   "id": "827bdcc1",
   "metadata": {},
   "outputs": [],
   "source": [
    "file = open('data/test.log', 'w')\n",
    "\n",
    "file.write('Log entry 1\\n')\n",
    "file.close()"
   ]
  },
  {
   "cell_type": "code",
   "execution_count": null,
   "id": "04c90b06",
   "metadata": {},
   "outputs": [],
   "source": [
    "from datetime import datetime as dt\n",
    "\n",
    "with open('data/test.log', 'a') as f:\n",
    "    f.write(f\"[{dt.now().isoformat()}]: Something bad happended\\n\")"
   ]
  },
  {
   "cell_type": "code",
   "execution_count": null,
   "id": "5164296b",
   "metadata": {},
   "outputs": [],
   "source": [
    "with open('data/test.log', 'r') as f:\n",
    "    content = f.read()\n",
    "\n",
    "print(content)"
   ]
  },
  {
   "cell_type": "code",
   "execution_count": null,
   "id": "f2ada953",
   "metadata": {},
   "outputs": [],
   "source": [
    "lines = content.split('\\n')\n",
    "print(f\"Found {len(lines)} lines\")"
   ]
  },
  {
   "cell_type": "code",
   "execution_count": null,
   "id": "323453de",
   "metadata": {},
   "outputs": [],
   "source": [
    "print(lines)"
   ]
  },
  {
   "cell_type": "code",
   "execution_count": null,
   "id": "95c2a730",
   "metadata": {},
   "outputs": [],
   "source": [
    "csv_lines = [\"time,message\"]\n",
    "\n",
    "for line in lines:\n",
    "    if not ':' in line:\n",
    "        continue\n",
    "    chunks = line.split(':')\n",
    "    if len(chunks) != 2:\n",
    "        continue\n",
    "\n",
    "    line_txt = ','.join([chunks[0].strip('[]'), chunks[1].strip()])\n",
    "    csv_lines.append(line_txt)\n",
    "\n",
    "csv_txt = '\\n'.join(csv_lines)\n",
    "print(csv_txt)"
   ]
  },
  {
   "cell_type": "markdown",
   "id": "6917c2bc",
   "metadata": {},
   "source": [
    "*Why does the code above not work?*"
   ]
  }
 ],
 "metadata": {
  "interpreter": {
   "hash": "f844c5a8e4e7df3b5ff8b490185d7ca29c57d29fc0deb536cf74e29255cc67f8"
  },
  "kernelspec": {
   "display_name": "Python 3",
   "language": "python",
   "name": "python3"
  },
  "language_info": {
   "codemirror_mode": {
    "name": "ipython",
    "version": 3
   },
   "file_extension": ".py",
   "mimetype": "text/x-python",
   "name": "python",
   "nbconvert_exporter": "python",
   "pygments_lexer": "ipython3",
   "version": "3.8.5"
  }
 },
 "nbformat": 4,
 "nbformat_minor": 5
}
