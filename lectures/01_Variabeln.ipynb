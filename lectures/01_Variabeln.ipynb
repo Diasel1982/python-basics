{
 "cells": [
  {
   "cell_type": "markdown",
   "id": "2685bc8f",
   "metadata": {},
   "source": [
    "# 1. Variablen\n",
    "\n",
    "### Kurzzusammenfassung\n",
    "\n",
    "* Python ist nicht typsicher\n",
    "* Variablen müssen nicht deklariert werden\n",
    "* Variablen können implizit bereinigt und neu deklariert werden\n",
    "* Es gibt keine expliziten Pointer in Python\n",
    "* Implizite Typenumwandlungen"
   ]
  },
  {
   "cell_type": "markdown",
   "id": "024c96e6",
   "metadata": {},
   "source": [
    "Basistypen: `int`, `str`, `float`, `bool`, `tuple`, `list`, `dict`"
   ]
  },
  {
   "cell_type": "markdown",
   "id": "4efb0846",
   "metadata": {},
   "source": [
    "## Primitive Typen"
   ]
  },
  {
   "cell_type": "code",
   "execution_count": null,
   "id": "300c10ad",
   "metadata": {},
   "outputs": [],
   "source": [
    "a = 5\n",
    "b = 5.0\n",
    "\n",
    "print(type(a))\n",
    "print(type(b))"
   ]
  },
  {
   "cell_type": "code",
   "execution_count": null,
   "id": "da6fa5ee",
   "metadata": {},
   "outputs": [],
   "source": [
    "s1 = 'This is a string'\n",
    "s2 = \"This is also a string\"\n",
    "\n",
    "print(s1)\n",
    "print(s2)"
   ]
  },
  {
   "cell_type": "code",
   "execution_count": null,
   "id": "b1d4e8d7",
   "metadata": {},
   "outputs": [],
   "source": [
    "print(\"You can interchange 'Quotes' or \\\"escape\\' them\")"
   ]
  },
  {
   "cell_type": "code",
   "execution_count": null,
   "id": "376b3ad1",
   "metadata": {},
   "outputs": [],
   "source": [
    "c = True\n",
    "d = False\n",
    "\n",
    "type(c), type(d)"
   ]
  },
  {
   "cell_type": "markdown",
   "id": "f67bec27",
   "metadata": {},
   "source": [
    "Python kann jede Variable in einen `bool` umwandeln, wobei alles was nicht `None` oder `0` ist, als `True` dargestellt wird:"
   ]
  },
  {
   "cell_type": "code",
   "execution_count": null,
   "id": "ab457683",
   "metadata": {},
   "outputs": [],
   "source": [
    "bool('Long String')"
   ]
  },
  {
   "cell_type": "code",
   "execution_count": null,
   "id": "d83a77e3",
   "metadata": {},
   "outputs": [],
   "source": [
    "bool(0.0), bool(0), bool(None)"
   ]
  },
  {
   "cell_type": "code",
   "execution_count": null,
   "id": "fdbfbb07",
   "metadata": {
    "scrolled": true
   },
   "outputs": [],
   "source": [
    "bool('False')"
   ]
  },
  {
   "cell_type": "markdown",
   "id": "5682abf7",
   "metadata": {},
   "source": [
    "## Container Typen\n",
    "\n",
    "Die zwei wichtigsten Container Typen sind `tuple` und `list`. \n",
    "\n",
    "* `tuple` sind immutable\n",
    "* `list` ist flexibler"
   ]
  },
  {
   "cell_type": "code",
   "execution_count": null,
   "id": "89840261",
   "metadata": {},
   "outputs": [],
   "source": [
    "tup = (1,2,3,4)\n",
    "lst = [1,2,3,4]\n",
    "\n",
    "print(tup)\n",
    "print(lst)"
   ]
  },
  {
   "cell_type": "code",
   "execution_count": null,
   "id": "cc7fe61a",
   "metadata": {},
   "outputs": [],
   "source": [
    "%timeit tuple(iter(range(100000)))"
   ]
  },
  {
   "cell_type": "code",
   "execution_count": null,
   "id": "56706987",
   "metadata": {},
   "outputs": [],
   "source": [
    "%timeit list(iter(range(100000)))"
   ]
  },
  {
   "cell_type": "markdown",
   "id": "6676edb7",
   "metadata": {},
   "source": [
    "Die Elemente innhalb der Struktur können über einen Index aufgerufen werden."
   ]
  },
  {
   "cell_type": "code",
   "execution_count": null,
   "id": "a5e8d614",
   "metadata": {},
   "outputs": [],
   "source": [
    "print(tup[2])\n",
    "print(lst[0])"
   ]
  },
  {
   "cell_type": "markdown",
   "id": "d69b81ef",
   "metadata": {},
   "source": [
    "Oder über *slices*:"
   ]
  },
  {
   "cell_type": "code",
   "execution_count": null,
   "id": "8a1a57ef",
   "metadata": {},
   "outputs": [],
   "source": [
    "tup[:-1]"
   ]
  },
  {
   "cell_type": "code",
   "execution_count": null,
   "id": "211c2d09",
   "metadata": {},
   "outputs": [],
   "source": [
    "lst[1:3]"
   ]
  },
  {
   "cell_type": "markdown",
   "id": "4393c6b4",
   "metadata": {},
   "source": [
    "Aber Tuple können nicht verändert werden:"
   ]
  },
  {
   "cell_type": "code",
   "execution_count": null,
   "id": "43a92b1e",
   "metadata": {},
   "outputs": [],
   "source": [
    "print(lst)\n",
    "lst[1] = 42\n",
    "print(lst)"
   ]
  },
  {
   "cell_type": "code",
   "execution_count": null,
   "id": "51cd5578",
   "metadata": {},
   "outputs": [],
   "source": [
    "tup[1] = 42"
   ]
  },
  {
   "cell_type": "markdown",
   "id": "cc83ab3c",
   "metadata": {},
   "source": [
    "Eine weitere hilfreiche Funktion ist `set()`, welche weder eine Liste noch ein Tuple ausgibt:"
   ]
  },
  {
   "cell_type": "code",
   "execution_count": null,
   "id": "1fac766c",
   "metadata": {},
   "outputs": [],
   "source": [
    "lst.append(5)\n",
    "lst.extend([4, 5])\n",
    "print(lst)\n",
    "print(set(lst))"
   ]
  },
  {
   "cell_type": "code",
   "execution_count": null,
   "id": "860851c2",
   "metadata": {},
   "outputs": [],
   "source": [
    "type(set(lst))"
   ]
  },
  {
   "cell_type": "markdown",
   "id": "7a44b058",
   "metadata": {},
   "source": [
    "## Dictionaries\n",
    "\n",
    "Dictionaries sind evtl. die wichtigste und flexibleste Struktur in Python. \n",
    "\n",
    "* `dict` speichert `key=value` Paare\n",
    "* der `value` kann dabei ein Objekt aller Python Klassen sein\n",
    "* der key ist üblicherweise ein `str` oder `int`, es können aber alle primitiven Typen verwendet werden.\n",
    "* der `value` kann selber auch wieder ein `dict`sein"
   ]
  },
  {
   "cell_type": "code",
   "execution_count": null,
   "id": "3671164d",
   "metadata": {},
   "outputs": [],
   "source": [
    "{'foo': 'bar'}"
   ]
  },
  {
   "cell_type": "code",
   "execution_count": null,
   "id": "98c01265",
   "metadata": {},
   "outputs": [],
   "source": [
    "dict(foo='bar')"
   ]
  },
  {
   "cell_type": "code",
   "execution_count": null,
   "id": "a6d645b8",
   "metadata": {},
   "outputs": [],
   "source": [
    "d = dict(foo='bar', message=dict(amount=4, content='Hello, World', submit=True))\n",
    "\n",
    "print(d)"
   ]
  },
  {
   "cell_type": "markdown",
   "id": "2469fa1b",
   "metadata": {},
   "source": [
    "Das `dict` bietet hilfreiche Methoden um z.b. auf die `keys` oder `values` zuzugreifen. Es werden Instanzen von spezialisierten Klassen zurückgegeben, die einem `tuple`sehr ähnlich sind. `dict_keys` dürfen zusätzlich keine Duplikate beinhalten."
   ]
  },
  {
   "cell_type": "code",
   "execution_count": null,
   "id": "9508e293",
   "metadata": {},
   "outputs": [],
   "source": [
    "d.keys()"
   ]
  },
  {
   "cell_type": "code",
   "execution_count": null,
   "id": "c28bd82b",
   "metadata": {},
   "outputs": [],
   "source": [
    "d.values()"
   ]
  },
  {
   "cell_type": "code",
   "execution_count": null,
   "id": "1d071886",
   "metadata": {},
   "outputs": [],
   "source": [
    "type(d.values()), type(d.keys())"
   ]
  },
  {
   "cell_type": "markdown",
   "id": "8cd6ffca",
   "metadata": {},
   "source": [
    "Sie können aber problemlos in eine normale `list` überführt werden."
   ]
  },
  {
   "cell_type": "code",
   "execution_count": null,
   "id": "0bcb8b91",
   "metadata": {},
   "outputs": [],
   "source": [
    "vals = list(d.values())\n",
    "print(vals)"
   ]
  },
  {
   "cell_type": "code",
   "execution_count": null,
   "id": "e87686a9",
   "metadata": {},
   "outputs": [],
   "source": [
    "vals.append('foobar')\n",
    "print(vals)"
   ]
  },
  {
   "cell_type": "markdown",
   "id": "e8c9fa01",
   "metadata": {},
   "source": [
    "## `collections`\n",
    "\n",
    "Das Standardpaket `collections` bietet weitere hilfreiche Klassen für viele typische use-cases bei der Arbeit mit container typen, die bei der Entwicklung viel Arbeit abnehmen können."
   ]
  },
  {
   "cell_type": "code",
   "execution_count": null,
   "id": "73863e5a",
   "metadata": {},
   "outputs": [],
   "source": [
    "import collections"
   ]
  },
  {
   "cell_type": "markdown",
   "id": "4d112319",
   "metadata": {},
   "source": [
    "Der `Counter` erstellt ein `set` der übergebenen Elemente und summiert die Anzahl der Auftitte."
   ]
  },
  {
   "cell_type": "code",
   "execution_count": null,
   "id": "92d9cc2b",
   "metadata": {},
   "outputs": [],
   "source": [
    "c = collections.Counter('The quick brown fox jumps over the lazy dog')\n",
    "c"
   ]
  },
  {
   "cell_type": "code",
   "execution_count": null,
   "id": "5becfd68",
   "metadata": {},
   "outputs": [],
   "source": [
    "c['e']"
   ]
  },
  {
   "cell_type": "code",
   "execution_count": null,
   "id": "917b7478",
   "metadata": {},
   "outputs": [],
   "source": [
    "c['P']"
   ]
  },
  {
   "cell_type": "code",
   "execution_count": null,
   "id": "0302b0e7",
   "metadata": {},
   "outputs": [],
   "source": [
    "c.most_common(3)"
   ]
  },
  {
   "cell_type": "code",
   "execution_count": null,
   "id": "b2dcde6c",
   "metadata": {},
   "outputs": [],
   "source": [
    "c2 = collections.Counter(['Linux', 'Windows','Linux', 'Linux', 'Mac', 'Windows'])\n",
    "print(c2)"
   ]
  },
  {
   "cell_type": "markdown",
   "id": "469cea3b",
   "metadata": {},
   "source": [
    "Die `deque` ist eine Liste, an die besonders effektiv an beiden Enden Elemente hinzugefügt werden können:"
   ]
  },
  {
   "cell_type": "code",
   "execution_count": null,
   "id": "c112654b",
   "metadata": {},
   "outputs": [],
   "source": [
    "next_jobs = collections.deque(['Lessing', 'Goethe', 'Kant', 'Lessing'])\n",
    "print(next_jobs)"
   ]
  },
  {
   "cell_type": "code",
   "execution_count": null,
   "id": "62c1c957",
   "metadata": {},
   "outputs": [],
   "source": [
    "next_jobs.appendleft('Anne-Frank')\n",
    "print(next_jobs)"
   ]
  },
  {
   "cell_type": "code",
   "execution_count": null,
   "id": "098cd2eb",
   "metadata": {},
   "outputs": [],
   "source": [
    "next_jobs.pop()"
   ]
  },
  {
   "cell_type": "code",
   "execution_count": null,
   "id": "b5971491",
   "metadata": {},
   "outputs": [],
   "source": [
    "next_jobs.popleft()"
   ]
  },
  {
   "cell_type": "code",
   "execution_count": null,
   "id": "de1b587f",
   "metadata": {},
   "outputs": [],
   "source": [
    "print(next_jobs)"
   ]
  },
  {
   "cell_type": "code",
   "execution_count": null,
   "id": "9e8b5862",
   "metadata": {},
   "outputs": [],
   "source": [
    "mut = collections.deque('abcdefg')\n",
    "mut"
   ]
  },
  {
   "cell_type": "code",
   "execution_count": null,
   "id": "944933e7",
   "metadata": {},
   "outputs": [],
   "source": [
    "mut.rotate(3)\n",
    "mut"
   ]
  },
  {
   "cell_type": "code",
   "execution_count": null,
   "id": "f05d6e90",
   "metadata": {},
   "outputs": [],
   "source": [
    "mut.rotate(-2)\n",
    "mut"
   ]
  },
  {
   "cell_type": "code",
   "execution_count": null,
   "id": "2ca41187",
   "metadata": {},
   "outputs": [],
   "source": [
    "mut.reverse()\n",
    "mut"
   ]
  },
  {
   "cell_type": "code",
   "execution_count": null,
   "id": "9ec517cf",
   "metadata": {},
   "outputs": [],
   "source": []
  },
  {
   "cell_type": "code",
   "execution_count": null,
   "id": "b27f299f",
   "metadata": {},
   "outputs": [],
   "source": [
    "todos = collections.deque(['setup', 'install', 'setup', 'buy new'], maxlen=5)\n",
    "todos"
   ]
  },
  {
   "cell_type": "code",
   "execution_count": null,
   "id": "b1eff783",
   "metadata": {},
   "outputs": [],
   "source": [
    "todos.append('setup')\n",
    "todos"
   ]
  },
  {
   "cell_type": "code",
   "execution_count": null,
   "id": "f73ad127",
   "metadata": {},
   "outputs": [],
   "source": [
    "todos.append('install')\n",
    "todos"
   ]
  },
  {
   "cell_type": "code",
   "execution_count": null,
   "id": "03381d61",
   "metadata": {},
   "outputs": [],
   "source": [
    "todos.appendleft('buy new')\n",
    "todos"
   ]
  }
 ],
 "metadata": {
  "kernelspec": {
   "display_name": "Python 3",
   "language": "python",
   "name": "python3"
  },
  "language_info": {
   "codemirror_mode": {
    "name": "ipython",
    "version": 3
   },
   "file_extension": ".py",
   "mimetype": "text/x-python",
   "name": "python",
   "nbconvert_exporter": "python",
   "pygments_lexer": "ipython3",
   "version": "3.8.5"
  }
 },
 "nbformat": 4,
 "nbformat_minor": 5
}
