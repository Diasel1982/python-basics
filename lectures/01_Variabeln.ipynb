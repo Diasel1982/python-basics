{
 "cells": [
  {
   "cell_type": "markdown",
   "id": "2685bc8f",
   "metadata": {},
   "source": [
    "# 1. Variablen\n",
    "\n",
    "### Kurzzusammenfassung\n",
    "\n",
    "* Python ist nicht typsicher\n",
    "* Variablen müssen nicht deklariert werden\n",
    "* Variablen können implizit bereinigt und neu deklariert werden\n",
    "* Es gibt keine expliziten Pointer in Python"
   ]
  },
  {
   "cell_type": "markdown",
   "id": "024c96e6",
   "metadata": {},
   "source": [
    "Basistypen: `int`, `str`, `float`, `bool`, `tuple`, `list`, `dict`"
   ]
  },
  {
   "cell_type": "code",
   "execution_count": null,
   "id": "300c10ad",
   "metadata": {},
   "outputs": [],
   "source": []
  }
 ],
 "metadata": {
  "kernelspec": {
   "display_name": "Python 3",
   "language": "python",
   "name": "python3"
  },
  "language_info": {
   "codemirror_mode": {
    "name": "ipython",
    "version": 3
   },
   "file_extension": ".py",
   "mimetype": "text/x-python",
   "name": "python",
   "nbconvert_exporter": "python",
   "pygments_lexer": "ipython3",
   "version": "3.8.5"
  }
 },
 "nbformat": 4,
 "nbformat_minor": 5
}
